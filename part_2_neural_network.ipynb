{
 "cells": [
  {
   "cell_type": "code",
   "execution_count": 1,
   "metadata": {
    "collapsed": true
   },
   "outputs": [],
   "source": [
    "import tensorflow as tf\n",
    "import matplotlib.pyplot as plt\n",
    "import numpy as np\n",
    "import progressbar\n",
    "from schrodinger_solver import solver\n",
    "%matplotlib inline"
   ]
  },
  {
   "cell_type": "code",
   "execution_count": 2,
   "metadata": {
    "collapsed": true
   },
   "outputs": [],
   "source": [
    "L = 64"
   ]
  },
  {
   "cell_type": "code",
   "execution_count": 3,
   "metadata": {},
   "outputs": [],
   "source": [
    "def reducing(_in):\n",
    "    \"\"\"\n",
    "       A reducing convolutional layer has 64 filters of size 3x3.\n",
    "       We use stride 2 to half the data size.\n",
    "       We use ReLU activation\n",
    "    \"\"\"\n",
    "    return tf.contrib.layers.conv2d(_in, 64, kernel_size=3, stride=2, activation_fn=tf.nn.relu)\n",
    "\n",
    "def nonreducing(_in):\n",
    "    \"\"\"\n",
    "       A nonreducing convolutional layer has 16 filters of size 4x4.\n",
    "       We use stride 1 to preserve the data size.\n",
    "       We use ReLU activation.\n",
    "    \"\"\"\n",
    "    return tf.contrib.layers.conv2d(_in, 16, kernel_size=4, stride=1, activation_fn=tf.nn.relu)\n",
    "    \n",
    "def CNN(_in):\n",
    "    net = tf.reshape(_in, (-1, L, L, 1))\n",
    "    #If you're using 256x256 potentials, you'll want 6 modules.\n",
    "    #We'll use 4 since we're using 64x64 potentials\n",
    "    #  e.g. for 256x256 use   for moduleID in range(6):\n",
    "    for moduleID in range(4):\n",
    "        net = nonreducing(nonreducing(reducing(net)))\n",
    "    net = tf.reshape(net, (-1, 4*4*16))\n",
    "    net = tf.contrib.layers.fully_connected(net, 1024, activation_fn=tf.nn.relu)\n",
    "    net = tf.contrib.layers.fully_connected(net, 1, activation_fn=None)\n",
    "    return net"
   ]
  },
  {
   "cell_type": "code",
   "execution_count": 4,
   "metadata": {},
   "outputs": [],
   "source": [
    "#data comes in a [ batch * L * L * 1 ] tensor, and labels a [ batch * 1] tensor\n",
    "x = tf.placeholder(tf.float32, (None, L, L, 1), name='input_image')\n",
    "y = tf.placeholder(tf.float32, (None, 1))\n",
    "\n",
    "predicted = CNN(x)\n",
    "#define the loss function\n",
    "loss = tf.reduce_mean(tf.square(y-predicted))\n",
    "#create an optimizer, a training op, and an init op\n",
    "optimizer = tf.train.AdamOptimizer(learning_rate=0.00001)\n",
    "train_step = optimizer.minimize(loss)\n",
    "init = tf.global_variables_initializer()"
   ]
  },
  {
   "cell_type": "code",
   "execution_count": 5,
   "metadata": {
    "collapsed": true
   },
   "outputs": [],
   "source": [
    "sess = tf.InteractiveSession()\n",
    "sess.run(init) "
   ]
  },
  {
   "cell_type": "code",
   "execution_count": 6,
   "metadata": {
    "collapsed": true
   },
   "outputs": [],
   "source": [
    "S = solver(limit=20, L=L, number=50000)\n",
    "data, labels = S.generate_file()\n",
    "train_data = data[:40000]\n",
    "test_data = data[40000:]\n",
    "train_labels = labels[:40000]\n",
    "test_labels = labels[40000:]"
   ]
  },
  {
   "cell_type": "code",
   "execution_count": 7,
   "metadata": {},
   "outputs": [
    {
     "name": "stderr",
     "output_type": "stream",
     "text": [
      "100%|#############################################|loss: 1.12e-06|Time: 0:10:06\n"
     ]
    },
    {
     "data": {
      "text/plain": [
       "'./chkpts/'"
      ]
     },
     "execution_count": 7,
     "metadata": {},
     "output_type": "execute_result"
    }
   ],
   "source": [
    "BATCH_SIZE = 1000\n",
    "EPOCHS = 100\n",
    "\n",
    "with progressbar.ProgressBar(max_value=EPOCHS,\n",
    "                             widgets=[progressbar.Percentage(),\n",
    "                                      progressbar.Bar(),\n",
    "                                      progressbar.DynamicMessage('loss'),'|',\n",
    "                                      progressbar.ETA()], \n",
    "                             redirect_stdout=False).start() as bar:\n",
    "    for epoch in range(EPOCHS):        \n",
    "        for batch in xrange(train_data.shape[0] / BATCH_SIZE):\n",
    "            _, loss_val = sess.run([train_step, loss],\n",
    "                       feed_dict={\n",
    "                            x: train_data[batch*BATCH_SIZE:(batch+1)*BATCH_SIZE],\n",
    "                            y: train_labels[batch*BATCH_SIZE:(batch+1)*BATCH_SIZE]\n",
    "                        }\n",
    "                      )\n",
    "            \n",
    "            bar.update(epoch, loss=float(loss_val))\n",
    "            \n",
    "saver = tf.train.Saver()\n",
    "saver.save(sess, save_path='./chkpts/')"
   ]
  },
  {
   "cell_type": "code",
   "execution_count": 8,
   "metadata": {
    "collapsed": true
   },
   "outputs": [],
   "source": [
    "BATCH_SIZE = 1000\n",
    "bar = progressbar.ProgressBar()\n",
    "prediction = []\n",
    "for batch in xrange(test_data.shape[0] / BATCH_SIZE):\n",
    "    batch_predictions = sess.run(predicted,\n",
    "                           feed_dict={\n",
    "                                x: test_data[batch*BATCH_SIZE:(batch+1)*BATCH_SIZE],\n",
    "                            }\n",
    "                          )  \n",
    "    prediction.append(batch_predictions.flatten())\n",
    "    \n",
    "prediction = np.array(prediction).flatten()\n",
    "\n"
   ]
  },
  {
   "cell_type": "code",
   "execution_count": 13,
   "metadata": {},
   "outputs": [
    {
     "data": {
      "image/png": "[encoded data removed]",
      "text/plain": [
       "<matplotlib.figure.Figure at 0x7f1cbc040a50>"
      ]
     },
     "metadata": {},
     "output_type": "display_data"
    }
   ],
   "source": [
    "fig, ax = plt.subplots(1,1, figsize=(8,8))\n",
    "counts, xedges, yedges = np.histogram2d(test_labels.flatten(), prediction.flatten(), bins=100)\n",
    "\n",
    "ax.pcolormesh(xedges, yedges, counts.T, cmap='Reds')\n",
    "\n",
    "ax.set_xlabel(\"True energy\")\n",
    "ax.set_ylabel(\"Predicted energy\")\n",
    "ax.grid(alpha=0.3)\n",
    "ax.set_title(\"Median absolute error: {0} mHa\".format(np.median(np.abs(prediction.flatten() - test_labels.flatten()))*1000.))\n",
    "fig.show()"
   ]
  }
 ],
 "metadata": {
  "kernelspec": {
   "display_name": "Python 2",
   "language": "python",
   "name": "python2"
  },
  "language_info": {
   "codemirror_mode": {
    "name": "ipython",
    "version": 2
   },
   "file_extension": ".py",
   "mimetype": "text/x-python",
   "name": "python",
   "nbconvert_exporter": "python",
   "pygments_lexer": "ipython2",
   "version": "2.7.14"
  }
 },
 "nbformat": 4,
 "nbformat_minor": 2
}
